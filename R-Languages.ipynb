{
 "cells": [
  {
   "cell_type": "code",
   "execution_count": null,
   "id": "f013352e",
   "metadata": {},
   "outputs": [],
   "source": [
    "library(ggplot2)\n",
    "\n",
    "os_data <- data.frame(\n",
    "  OS = c(\"Windows\", \"OS X\", \"Unknown\", \"Linux\", \"Chrome OS\", \"FreeBSD\"),\n",
    "  MarketShare = c(72.52, 14.68, 6.47, 4.05, 2.27, 0.01)\n",
    ")\n",
    "\n",
    "ggplot(os_data, aes(x = OS, y = MarketShare, fill = OS)) +\n",
    "  geom_bar(stat = \"identity\", color = \"black\") +\n",
    "  geom_text(aes(label = paste0(MarketShare, \"%\")), vjust = -0.5) +\n",
    "  labs(\n",
    "    title = \"Operating System Market Share Worldwide (2024)\",\n",
    "    x = \"Operating System\",\n",
    "    y = \"Market Share (%)\"\n",
    "  ) +\n",
    "  theme_minimal() +\n",
    "  theme(legend.position = \"none\")"
   ]
  }
 ],
 "metadata": {
  "language_info": {
   "name": "python"
  }
 },
 "nbformat": 4,
 "nbformat_minor": 5
}
